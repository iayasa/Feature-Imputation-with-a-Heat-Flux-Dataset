{
 "cells": [
  {
   "attachments": {},
   "cell_type": "markdown",
   "metadata": {},
   "source": [
    "Lo primero que hacemos es dividir el dataset original en dos partes. \n",
    "<BR>\n",
    "\n",
    "i) Incluye los nulos (10.415) que será donde hagamos las prediciones.\n",
    "<BR>\n",
    "\n",
    "ii) No incluye los nulos (21.229) y será el que utilicemos para entrenar el modelo.  "
   ]
  },
  {
   "cell_type": "code",
   "execution_count": 1,
   "metadata": {},
   "outputs": [
    {
     "name": "stdout",
     "output_type": "stream",
     "text": [
      "Data_copia:  (31644, 10)\n",
      "Data con los NUN: (10415, 10)\n",
      "Data sin los NUN:  (21229, 10)\n"
     ]
    }
   ],
   "source": [
    "import csv\n",
    "import pandas as pd\n",
    "import matplotlib.pyplot as plt\n",
    "\n",
    "data = pd.read_csv('data/data.csv')\n",
    "\n",
    "data_copia = data.copy()\n",
    "\n",
    "# Crear un DataFrame con filas que contienen NaN en 'x_e_out [-]'\n",
    "\n",
    "df_nan = data_copia[data_copia['x_e_out [-]'].isnull()]\n",
    "\n",
    "# Crear un DataFrame sin filas que contienen NaN en 'x_e_out [-]'\n",
    "\n",
    "df_sin_nan = data_copia[~data_copia['x_e_out [-]'].isnull()]\n",
    "\n",
    "print(\"Data_copia: \", data_copia.shape)\n",
    "print(\"Data con los NUN:\", df_nan.shape)\n",
    "print(\"Data sin los NUN: \", df_sin_nan.shape)"
   ]
  },
  {
   "cell_type": "code",
   "execution_count": 2,
   "metadata": {},
   "outputs": [
    {
     "name": "stdout",
     "output_type": "stream",
     "text": [
      "Media de x_e_out [-]: -0.0004528625936219324\n"
     ]
    }
   ],
   "source": [
    "# Calcular la media de la columna \"x_e_out [-]\"\n",
    "media_x_e_out = df_sin_nan['x_e_out [-]'].mean()\n",
    "\n",
    "print(\"Media de x_e_out [-]:\", media_x_e_out)"
   ]
  },
  {
   "cell_type": "code",
   "execution_count": 8,
   "metadata": {},
   "outputs": [
    {
     "data": {
      "text/plain": [
       "(21229, 21)"
      ]
     },
     "execution_count": 8,
     "metadata": {},
     "output_type": "execute_result"
    }
   ],
   "source": [
    "# Realizar la codificación one-hot en la columna \"author\" y \"geometry\". \n",
    "\n",
    "data_encoded = pd.get_dummies(df_sin_nan, columns=['author', \"geometry\"])\n",
    "\n",
    "data_encoded.shape\n"
   ]
  },
  {
   "attachments": {},
   "cell_type": "markdown",
   "metadata": {},
   "source": [
    "# Probamos el modelo de XG_Boost"
   ]
  },
  {
   "cell_type": "code",
   "execution_count": 5,
   "metadata": {},
   "outputs": [
    {
     "name": "stdout",
     "output_type": "stream",
     "text": [
      "Root Mean Squared Error (RMSE): 0.07724510934181494\n",
      "R-squared: 0.4125767407412997\n",
      "Mean Squared Error (MSE): 0.005966806917228946\n",
      "Mean Absolute Error (MAE): 0.05393318578209327\n"
     ]
    }
   ],
   "source": [
    "import pandas as pd\n",
    "from sklearn.model_selection import train_test_split\n",
    "from xgboost import XGBRegressor\n",
    "from sklearn.preprocessing import StandardScaler\n",
    "from sklearn.metrics import mean_squared_error, r2_score, mean_absolute_error\n",
    "\n",
    "# Reemplazar los valores faltantes con la media de la columna correspondiente\n",
    "data_encoded.fillna(data_encoded.mean(), inplace=True)\n",
    "\n",
    "# Separar las características (X) y la variable objetivo (y)\n",
    "X = data_encoded.drop('x_e_out [-]', axis=1)\n",
    "y = data_encoded['x_e_out [-]']\n",
    "\n",
    "# Dividir el dataset en conjuntos de entrenamiento y prueba\n",
    "X_train, X_test, y_train, y_test = train_test_split(X, y, test_size=0.2, random_state=42)\n",
    "\n",
    "# Crear un objeto Scaler y ajustarlo a los datos de entrenamiento\n",
    "scaler = StandardScaler()\n",
    "X_train_scaled = scaler.fit_transform(X_train)\n",
    "X_test_scaled = scaler.transform(X_test)\n",
    "\n",
    "# Crear y entrenar el modelo XGBoost\n",
    "modelo_XGB = XGBRegressor()\n",
    "modelo_XGB.fit(X_train_scaled, y_train)\n",
    "\n",
    "# Realizar predicciones en el conjunto de prueba\n",
    "y_pred = modelo_XGB.predict(X_test_scaled)\n",
    "\n",
    "# Calcular el RMSE\n",
    "rmse = mean_squared_error(y_test, y_pred, squared=False)\n",
    "\n",
    "# Calcular el R cuadrado\n",
    "r2 = r2_score(y_test, y_pred)\n",
    "\n",
    "# Calcular el MSE\n",
    "mse = mean_squared_error(y_test, y_pred)\n",
    "\n",
    "# Calcular el MAE\n",
    "mae = mean_absolute_error(y_test, y_pred)\n",
    "\n",
    "print(\"Root Mean Squared Error (RMSE):\", rmse)\n",
    "print(\"R-squared:\", r2)\n",
    "print(\"Mean Squared Error (MSE):\", mse)\n",
    "print(\"Mean Absolute Error (MAE):\", mae)"
   ]
  },
  {
   "attachments": {},
   "cell_type": "markdown",
   "metadata": {},
   "source": [
    "# Ponemos en el mismo formato el dataset NAN y hacemos la predicción. "
   ]
  },
  {
   "cell_type": "code",
   "execution_count": 7,
   "metadata": {},
   "outputs": [],
   "source": [
    "# Realizar la codificación one-hot en la columna \"author\" y \"geometry\"\n",
    "\n",
    "data_encoded_NUN = pd.get_dummies(df_nan, columns=['author', \"geometry\"])\n",
    "\n",
    "# Reemplazar los valores faltantes con la media de la columna correspondiente\n",
    "data_encoded_NUN.fillna(data_encoded_NUN.mean(), inplace=True)\n",
    "\n",
    "# Separar las características (X_new) del nuevo DataFrame\n",
    "X_new = data_encoded_NUN.drop('x_e_out [-]', axis=1)\n",
    "\n",
    "# Escalar los datos del nuevo DataFrame utilizando el mismo objeto Scaler ajustado previamente\n",
    "X_new_scaled = scaler.transform(X_new)\n",
    "\n",
    "# Realizar la predicción en el nuevo DataFrame\n",
    "y_new_pred = modelo_XGB.predict(X_new_scaled)\n",
    "\n",
    "# Agregar los valores predichos al nuevo DataFrame\n",
    "data_encoded_NUN['x_e_out [-]'] = y_new_pred\n",
    "\n",
    "# Imprimir el nuevo DataFrame con los valores predichos\n",
    "\n",
    "formato_subm = data_encoded_NUN[['id', 'x_e_out [-]']]\n",
    "\n",
    "# Convertir el DataFrame seleccionado a CSV\n",
    "formato_subm.to_csv('Submission_7.csv', index=False)"
   ]
  },
  {
   "cell_type": "code",
   "execution_count": null,
   "metadata": {},
   "outputs": [],
   "source": [
    "\n",
    "# Ajustamos los hiperparametros con GridSearchCV\n",
    "\n",
    "import pandas as pd\n",
    "from sklearn.model_selection import train_test_split, GridSearchCV\n",
    "from xgboost import XGBRegressor\n",
    "from sklearn.preprocessing import StandardScaler\n",
    "from sklearn.metrics import mean_squared_error\n",
    "\n",
    "# Reemplazar los valores faltantes con la media de la columna correspondiente\n",
    "data_encoded.fillna(data_encoded.mean(), inplace=True)\n",
    "\n",
    "# Separar las características (X) y la variable objetivo (y)\n",
    "X = data_encoded.drop('x_e_out [-]', axis=1)\n",
    "y = data_encoded['x_e_out [-]']\n",
    "\n",
    "# Dividir el dataset en conjuntos de entrenamiento y prueba\n",
    "X_train, X_test, y_train, y_test = train_test_split(X, y, test_size=0.2, random_state=42)\n",
    "\n",
    "# Crear un objeto Scaler y ajustarlo a los datos de entrenamiento\n",
    "scaler = StandardScaler()\n",
    "X_train_scaled = scaler.fit_transform(X_train)\n",
    "X_test_scaled = scaler.transform(X_test)\n",
    "\n",
    "# Definir los hiperparámetros a ajustar\n",
    "parameters = {\n",
    "    'n_estimators': [100, 200, 300],\n",
    "    'learning_rate': [0.01, 0.1, 0.3],\n",
    "    'max_depth': [3, 4, 5]\n",
    "}\n",
    "\n",
    "# Crear el modelo base\n",
    "base_model = XGBRegressor()\n",
    "\n",
    "# Crear el objeto GridSearchCV\n",
    "grid_search = GridSearchCV(estimator=base_model, param_grid=parameters, scoring='neg_root_mean_squared_error', cv=5)\n",
    "\n",
    "# Realizar la búsqueda de hiperparámetros\n",
    "grid_search.fit(X_train_scaled, y_train)\n",
    "\n",
    "# Obtener el mejor modelo y los mejores parámetros\n",
    "best_model = grid_search.best_estimator_\n",
    "best_params = grid_search.best_params_\n",
    "\n",
    "# Realizar predicciones en el conjunto de prueba con el mejor modelo\n",
    "y_pred = best_model.predict(X_test_scaled)\n",
    "\n",
    "# Calcular el RMSE con el mejor modelo\n",
    "rmse = mean_squared_error(y_test, y_pred, squared=False)\n",
    "\n",
    "print(\"Best Parameters:\", best_params)\n",
    "print(\"Root Mean Squared Error (RMSE):\", rmse)\n"
   ]
  }
 ],
 "metadata": {
  "kernelspec": {
   "display_name": "Python 3",
   "language": "python",
   "name": "python3"
  },
  "language_info": {
   "codemirror_mode": {
    "name": "ipython",
    "version": 3
   },
   "file_extension": ".py",
   "mimetype": "text/x-python",
   "name": "python",
   "nbconvert_exporter": "python",
   "pygments_lexer": "ipython3",
   "version": "3.7.4"
  },
  "orig_nbformat": 4
 },
 "nbformat": 4,
 "nbformat_minor": 2
}
