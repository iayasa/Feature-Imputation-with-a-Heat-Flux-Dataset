{
 "cells": [
  {
   "attachments": {},
   "cell_type": "markdown",
   "metadata": {},
   "source": [
    "Lo primero que hacemos es dividir el dataset original en dos partes. \n",
    "<BR>\n",
    "\n",
    "i) Incluye los nulos (10.415) que será donde hagamos las prediciones.\n",
    "<BR>\n",
    "\n",
    "ii) No incluye los nulos (21.229) y será el que utilicemos para entrenar el modelo.  \n"
   ]
  },
  {
   "cell_type": "code",
   "execution_count": 7,
   "metadata": {},
   "outputs": [
    {
     "name": "stdout",
     "output_type": "stream",
     "text": [
      "data_copia:  (31644, 10)\n",
      "Data con los NUN: (10415, 10)\n",
      "Data sin los NUN:  (21229, 10)\n"
     ]
    }
   ],
   "source": [
    "import csv\n",
    "import pandas as pd\n",
    "import matplotlib.pyplot as plt\n",
    "\n",
    "data = pd.read_csv('data/data.csv')\n",
    "\n",
    "data_copia = data.copy()\n",
    "\n",
    "# Crear un DataFrame con filas que contienen NaN en 'x_e_out [-]'\n",
    "\n",
    "df_nan = data_copia[data_copia['x_e_out [-]'].isnull()]\n",
    "\n",
    "# Crear un DataFrame sin filas que contienen NaN en 'x_e_out [-]'\n",
    "\n",
    "df_sin_nan = data_copia[~data_copia['x_e_out [-]'].isnull()]\n",
    "\n",
    "print(\"data_copia: \", data_copia.shape)\n",
    "print(\"Data con los NUN:\", df_nan.shape)\n",
    "print(\"Data sin los NUN: \", df_sin_nan.shape)\n"
   ]
  },
  {
   "cell_type": "code",
   "execution_count": 8,
   "metadata": {},
   "outputs": [
    {
     "name": "stdout",
     "output_type": "stream",
     "text": [
      "Media de x_e_out [-]: -0.0004528625936219324\n"
     ]
    }
   ],
   "source": [
    "# Calcular la media de la columna \"x_e_out [-]\"\n",
    "media_x_e_out = df_sin_nan['x_e_out [-]'].mean()\n",
    "\n",
    "print(\"Media de x_e_out [-]:\", media_x_e_out)"
   ]
  },
  {
   "cell_type": "code",
   "execution_count": 13,
   "metadata": {},
   "outputs": [
    {
     "data": {
      "text/html": [
       "<div>\n",
       "<style scoped>\n",
       "    .dataframe tbody tr th:only-of-type {\n",
       "        vertical-align: middle;\n",
       "    }\n",
       "\n",
       "    .dataframe tbody tr th {\n",
       "        vertical-align: top;\n",
       "    }\n",
       "\n",
       "    .dataframe thead th {\n",
       "        text-align: right;\n",
       "    }\n",
       "</style>\n",
       "<table border=\"1\" class=\"dataframe\">\n",
       "  <thead>\n",
       "    <tr style=\"text-align: right;\">\n",
       "      <th></th>\n",
       "      <th>id</th>\n",
       "      <th>pressure [MPa]</th>\n",
       "      <th>mass_flux [kg/m2-s]</th>\n",
       "      <th>x_e_out [-]</th>\n",
       "      <th>D_e [mm]</th>\n",
       "      <th>D_h [mm]</th>\n",
       "      <th>length [mm]</th>\n",
       "      <th>chf_exp [MW/m2]</th>\n",
       "      <th>author_Beus</th>\n",
       "      <th>author_Inasaka</th>\n",
       "      <th>...</th>\n",
       "      <th>author_Kossolapov</th>\n",
       "      <th>author_Mortimore</th>\n",
       "      <th>author_Peskov</th>\n",
       "      <th>author_Richenderfer</th>\n",
       "      <th>author_Thompson</th>\n",
       "      <th>author_Weatherhead</th>\n",
       "      <th>author_Williams</th>\n",
       "      <th>geometry_annulus</th>\n",
       "      <th>geometry_plate</th>\n",
       "      <th>geometry_tube</th>\n",
       "    </tr>\n",
       "  </thead>\n",
       "  <tbody>\n",
       "    <tr>\n",
       "      <th>0</th>\n",
       "      <td>0</td>\n",
       "      <td>7.0</td>\n",
       "      <td>3770.0</td>\n",
       "      <td>0.1754</td>\n",
       "      <td>NaN</td>\n",
       "      <td>10.8</td>\n",
       "      <td>432.0</td>\n",
       "      <td>3.6</td>\n",
       "      <td>0</td>\n",
       "      <td>0</td>\n",
       "      <td>...</td>\n",
       "      <td>0</td>\n",
       "      <td>0</td>\n",
       "      <td>0</td>\n",
       "      <td>0</td>\n",
       "      <td>1</td>\n",
       "      <td>0</td>\n",
       "      <td>0</td>\n",
       "      <td>0</td>\n",
       "      <td>0</td>\n",
       "      <td>1</td>\n",
       "    </tr>\n",
       "    <tr>\n",
       "      <th>1</th>\n",
       "      <td>1</td>\n",
       "      <td>NaN</td>\n",
       "      <td>6049.0</td>\n",
       "      <td>-0.0416</td>\n",
       "      <td>10.3</td>\n",
       "      <td>10.3</td>\n",
       "      <td>762.0</td>\n",
       "      <td>6.2</td>\n",
       "      <td>0</td>\n",
       "      <td>0</td>\n",
       "      <td>...</td>\n",
       "      <td>0</td>\n",
       "      <td>0</td>\n",
       "      <td>0</td>\n",
       "      <td>0</td>\n",
       "      <td>1</td>\n",
       "      <td>0</td>\n",
       "      <td>0</td>\n",
       "      <td>0</td>\n",
       "      <td>0</td>\n",
       "      <td>1</td>\n",
       "    </tr>\n",
       "  </tbody>\n",
       "</table>\n",
       "<p>2 rows × 21 columns</p>\n",
       "</div>"
      ],
      "text/plain": [
       "   id  pressure [MPa]  mass_flux [kg/m2-s]  x_e_out [-]  D_e [mm]  D_h [mm]  \\\n",
       "0   0             7.0               3770.0       0.1754       NaN      10.8   \n",
       "1   1             NaN               6049.0      -0.0416      10.3      10.3   \n",
       "\n",
       "   length [mm]  chf_exp [MW/m2]  author_Beus  author_Inasaka  ...  \\\n",
       "0        432.0              3.6            0               0  ...   \n",
       "1        762.0              6.2            0               0  ...   \n",
       "\n",
       "   author_Kossolapov  author_Mortimore  author_Peskov  author_Richenderfer  \\\n",
       "0                  0                 0              0                    0   \n",
       "1                  0                 0              0                    0   \n",
       "\n",
       "   author_Thompson  author_Weatherhead  author_Williams  geometry_annulus  \\\n",
       "0                1                   0                0                 0   \n",
       "1                1                   0                0                 0   \n",
       "\n",
       "   geometry_plate  geometry_tube  \n",
       "0               0              1  \n",
       "1               0              1  \n",
       "\n",
       "[2 rows x 21 columns]"
      ]
     },
     "execution_count": 13,
     "metadata": {},
     "output_type": "execute_result"
    }
   ],
   "source": [
    "# Realizar la codificación one-hot en la columna \"author\" y \"geometry\". \n",
    "\n",
    "data_encoded = pd.get_dummies(df_sin_nan, columns=['author', \"geometry\"])\n",
    "\n",
    "data_encoded.head(2)"
   ]
  },
  {
   "attachments": {},
   "cell_type": "markdown",
   "metadata": {},
   "source": [
    "# Probamos el modelo de Regresión lineal para hacer el baseline\n"
   ]
  },
  {
   "cell_type": "code",
   "execution_count": 11,
   "metadata": {},
   "outputs": [
    {
     "name": "stdout",
     "output_type": "stream",
     "text": [
      "Root Mean Squared Error (RMSE): 0.08657446870627104\n",
      "R-squared: 0.2621147584047059\n",
      "Mean Squared Error (MSE): 0.007495138631773105\n",
      "Mean Absolute Error (MAE): 0.06298538171593379\n"
     ]
    }
   ],
   "source": [
    "import pandas as pd\n",
    "from sklearn.model_selection import train_test_split\n",
    "from sklearn.linear_model import LinearRegression\n",
    "from sklearn.preprocessing import StandardScaler\n",
    "from sklearn.metrics import mean_squared_error, r2_score, mean_absolute_error\n",
    "\n",
    "# Reemplazar los valores faltantes con la media de la columna correspondiente\n",
    "data_encoded.fillna(data_encoded.mean(), inplace=True)\n",
    "\n",
    "# Separar las características (X) y la variable objetivo (y)\n",
    "X = data_encoded.drop('x_e_out [-]', axis=1)\n",
    "y = data_encoded['x_e_out [-]']\n",
    "\n",
    "# Dividir el dataset en conjuntos de entrenamiento y prueba\n",
    "X_train, X_test, y_train, y_test = train_test_split(X, y, test_size=0.2, random_state=42)\n",
    "\n",
    "# Crear un objeto Scaler y ajustarlo a los datos de entrenamiento\n",
    "scaler = StandardScaler()\n",
    "X_train_scaled = scaler.fit_transform(X_train)\n",
    "X_test_scaled = scaler.transform(X_test)\n",
    "\n",
    "# Crear y entrenar el modelo de regresión lineal\n",
    "modelo_Regresión= LinearRegression()\n",
    "modelo_Regresión.fit(X_train_scaled, y_train)\n",
    "\n",
    "# Realizar predicciones en el conjunto de prueba\n",
    "\n",
    "y_pred = modelo_Regresión.predict(X_test_scaled)\n",
    "\n",
    "# Calcular el RMSE\n",
    "rmse = mean_squared_error(y_test, y_pred, squared=False)\n",
    "\n",
    "# Calcular el R cuadrado\n",
    "r2 = r2_score(y_test, y_pred)\n",
    "\n",
    "# Calcular el MSE\n",
    "mse = mean_squared_error(y_test, y_pred)\n",
    "\n",
    "# Calcular el MAE\n",
    "mae = mean_absolute_error(y_test, y_pred)\n",
    "\n",
    "print(\"Root Mean Squared Error (RMSE):\", rmse)\n",
    "print(\"R-squared:\", r2)\n",
    "print(\"Mean Squared Error (MSE):\", mse)\n",
    "print(\"Mean Absolute Error (MAE):\", mae)\n"
   ]
  },
  {
   "attachments": {},
   "cell_type": "markdown",
   "metadata": {},
   "source": [
    "# Ponemos en el mismo formato el dataset NAN y hacemos la predicción. "
   ]
  },
  {
   "cell_type": "code",
   "execution_count": 13,
   "metadata": {},
   "outputs": [],
   "source": [
    "# Realizar la codificación one-hot en la columna \"author\" y \"geometry\"\n",
    "\n",
    "data_encoded_NUN = pd.get_dummies(df_nan, columns=['author', \"geometry\"])\n",
    "\n",
    "# Reemplazar los valores faltantes con la media de la columna correspondiente\n",
    "data_encoded_NUN.fillna(data_encoded_NUN.mean(), inplace=True)\n",
    "\n",
    "# Separar las características (X_new) del nuevo DataFrame\n",
    "X_new = data_encoded_NUN.drop('x_e_out [-]', axis=1)\n",
    "\n",
    "# Escalar los datos del nuevo DataFrame utilizando el mismo objeto Scaler ajustado previamente\n",
    "X_new_scaled = scaler.transform(X_new)\n",
    "\n",
    "# Realizar la predicción en el nuevo DataFrame\n",
    "y_new_pred = modelo_Regresión.predict(X_new_scaled)\n",
    "\n",
    "# Agregar los valores predichos al nuevo DataFrame\n",
    "data_encoded_NUN['x_e_out [-]'] = y_new_pred\n",
    "\n",
    "# Imprimir el nuevo DataFrame con los valores predichos\n",
    "\n",
    "formato_subm = data_encoded_NUN[['id', 'x_e_out [-]']]\n",
    "\n",
    "# Convertir el DataFrame seleccionado a CSV\n",
    "formato_subm.to_csv('Submission_4.csv', index=False)\n"
   ]
  }
 ],
 "metadata": {
  "kernelspec": {
   "display_name": "Python 3",
   "language": "python",
   "name": "python3"
  },
  "language_info": {
   "codemirror_mode": {
    "name": "ipython",
    "version": 3
   },
   "file_extension": ".py",
   "mimetype": "text/x-python",
   "name": "python",
   "nbconvert_exporter": "python",
   "pygments_lexer": "ipython3",
   "version": "3.7.4"
  },
  "orig_nbformat": 4
 },
 "nbformat": 4,
 "nbformat_minor": 2
}
